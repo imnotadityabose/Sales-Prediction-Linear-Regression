{
 "cells": [
  {
   "cell_type": "code",
   "execution_count": 1,
   "id": "7bcb92be",
   "metadata": {},
   "outputs": [],
   "source": [
    "import pandas as pd"
   ]
  },
  {
   "cell_type": "code",
   "execution_count": 64,
   "id": "c655654a",
   "metadata": {},
   "outputs": [],
   "source": [
    "an=pd.read_csv(\"adult_new.csv\")"
   ]
  },
  {
   "cell_type": "code",
   "execution_count": 65,
   "id": "c815f684",
   "metadata": {},
   "outputs": [
    {
     "data": {
      "text/html": [
       "<div>\n",
       "<style scoped>\n",
       "    .dataframe tbody tr th:only-of-type {\n",
       "        vertical-align: middle;\n",
       "    }\n",
       "\n",
       "    .dataframe tbody tr th {\n",
       "        vertical-align: top;\n",
       "    }\n",
       "\n",
       "    .dataframe thead th {\n",
       "        text-align: right;\n",
       "    }\n",
       "</style>\n",
       "<table border=\"1\" class=\"dataframe\">\n",
       "  <thead>\n",
       "    <tr style=\"text-align: right;\">\n",
       "      <th></th>\n",
       "      <th>age</th>\n",
       "      <th>workclass</th>\n",
       "      <th>fnlwgt</th>\n",
       "      <th>education</th>\n",
       "      <th>educational-num</th>\n",
       "      <th>marital-status</th>\n",
       "      <th>occupation</th>\n",
       "      <th>relationship</th>\n",
       "      <th>race</th>\n",
       "      <th>gender</th>\n",
       "      <th>capital-gain</th>\n",
       "      <th>capital-loss</th>\n",
       "      <th>hours-per-week</th>\n",
       "      <th>native-country</th>\n",
       "      <th>income</th>\n",
       "    </tr>\n",
       "  </thead>\n",
       "  <tbody>\n",
       "    <tr>\n",
       "      <th>0</th>\n",
       "      <td>28</td>\n",
       "      <td>Local-gov</td>\n",
       "      <td>336951</td>\n",
       "      <td>Assoc-acdm</td>\n",
       "      <td>12</td>\n",
       "      <td>Married-civ-spouse</td>\n",
       "      <td>Protective-serv</td>\n",
       "      <td>Husband</td>\n",
       "      <td>White</td>\n",
       "      <td>Male</td>\n",
       "      <td>0</td>\n",
       "      <td>0</td>\n",
       "      <td>40</td>\n",
       "      <td>United-States</td>\n",
       "      <td>&gt;50K</td>\n",
       "    </tr>\n",
       "    <tr>\n",
       "      <th>1</th>\n",
       "      <td>44</td>\n",
       "      <td>Private</td>\n",
       "      <td>160323</td>\n",
       "      <td>Some-college</td>\n",
       "      <td>10</td>\n",
       "      <td>Married-civ-spouse</td>\n",
       "      <td>Machine-op-inspct</td>\n",
       "      <td>Husband</td>\n",
       "      <td>Black</td>\n",
       "      <td>Male</td>\n",
       "      <td>7688</td>\n",
       "      <td>0</td>\n",
       "      <td>40</td>\n",
       "      <td>United-States</td>\n",
       "      <td>&gt;50K</td>\n",
       "    </tr>\n",
       "    <tr>\n",
       "      <th>2</th>\n",
       "      <td>63</td>\n",
       "      <td>Self-emp-not-inc</td>\n",
       "      <td>104626</td>\n",
       "      <td>Prof-school</td>\n",
       "      <td>15</td>\n",
       "      <td>Married-civ-spouse</td>\n",
       "      <td>Prof-specialty</td>\n",
       "      <td>Husband</td>\n",
       "      <td>White</td>\n",
       "      <td>Male</td>\n",
       "      <td>3103</td>\n",
       "      <td>0</td>\n",
       "      <td>32</td>\n",
       "      <td>United-States</td>\n",
       "      <td>&gt;50K</td>\n",
       "    </tr>\n",
       "    <tr>\n",
       "      <th>3</th>\n",
       "      <td>65</td>\n",
       "      <td>Private</td>\n",
       "      <td>184454</td>\n",
       "      <td>HS-grad</td>\n",
       "      <td>9</td>\n",
       "      <td>Married-civ-spouse</td>\n",
       "      <td>Machine-op-inspct</td>\n",
       "      <td>Husband</td>\n",
       "      <td>White</td>\n",
       "      <td>Male</td>\n",
       "      <td>6418</td>\n",
       "      <td>0</td>\n",
       "      <td>40</td>\n",
       "      <td>United-States</td>\n",
       "      <td>&gt;50K</td>\n",
       "    </tr>\n",
       "    <tr>\n",
       "      <th>4</th>\n",
       "      <td>48</td>\n",
       "      <td>Private</td>\n",
       "      <td>279724</td>\n",
       "      <td>HS-grad</td>\n",
       "      <td>9</td>\n",
       "      <td>Married-civ-spouse</td>\n",
       "      <td>Machine-op-inspct</td>\n",
       "      <td>Husband</td>\n",
       "      <td>White</td>\n",
       "      <td>Male</td>\n",
       "      <td>3103</td>\n",
       "      <td>0</td>\n",
       "      <td>48</td>\n",
       "      <td>United-States</td>\n",
       "      <td>&gt;50K</td>\n",
       "    </tr>\n",
       "  </tbody>\n",
       "</table>\n",
       "</div>"
      ],
      "text/plain": [
       "   age         workclass  fnlwgt     education  educational-num  \\\n",
       "0   28         Local-gov  336951    Assoc-acdm               12   \n",
       "1   44           Private  160323  Some-college               10   \n",
       "2   63  Self-emp-not-inc  104626   Prof-school               15   \n",
       "3   65           Private  184454       HS-grad                9   \n",
       "4   48           Private  279724       HS-grad                9   \n",
       "\n",
       "       marital-status         occupation relationship   race gender  \\\n",
       "0  Married-civ-spouse    Protective-serv      Husband  White   Male   \n",
       "1  Married-civ-spouse  Machine-op-inspct      Husband  Black   Male   \n",
       "2  Married-civ-spouse     Prof-specialty      Husband  White   Male   \n",
       "3  Married-civ-spouse  Machine-op-inspct      Husband  White   Male   \n",
       "4  Married-civ-spouse  Machine-op-inspct      Husband  White   Male   \n",
       "\n",
       "   capital-gain  capital-loss  hours-per-week native-country income  \n",
       "0             0             0              40  United-States   >50K  \n",
       "1          7688             0              40  United-States   >50K  \n",
       "2          3103             0              32  United-States   >50K  \n",
       "3          6418             0              40  United-States   >50K  \n",
       "4          3103             0              48  United-States   >50K  "
      ]
     },
     "execution_count": 65,
     "metadata": {},
     "output_type": "execute_result"
    }
   ],
   "source": [
    "an.head()\n"
   ]
  },
  {
   "cell_type": "code",
   "execution_count": 66,
   "id": "32dc0320",
   "metadata": {},
   "outputs": [
    {
     "data": {
      "text/plain": [
       "age                0\n",
       "workclass          0\n",
       "fnlwgt             0\n",
       "education          0\n",
       "educational-num    0\n",
       "marital-status     0\n",
       "occupation         0\n",
       "relationship       0\n",
       "race               0\n",
       "gender             0\n",
       "capital-gain       0\n",
       "capital-loss       0\n",
       "hours-per-week     0\n",
       "native-country     0\n",
       "income             0\n",
       "dtype: int64"
      ]
     },
     "execution_count": 66,
     "metadata": {},
     "output_type": "execute_result"
    }
   ],
   "source": [
    "an.isnull().sum()"
   ]
  },
  {
   "cell_type": "code",
   "execution_count": 67,
   "id": "3a04f36b",
   "metadata": {},
   "outputs": [
    {
     "data": {
      "text/plain": [
       "array(['>50K', '<=50K'], dtype=object)"
      ]
     },
     "execution_count": 67,
     "metadata": {},
     "output_type": "execute_result"
    }
   ],
   "source": [
    "an[\"income\"].unique()"
   ]
  },
  {
   "cell_type": "code",
   "execution_count": 68,
   "id": "f13224bb",
   "metadata": {},
   "outputs": [
    {
     "name": "stdout",
     "output_type": "stream",
     "text": [
      "unique values in column age:\n",
      "\n",
      "[28 44 63 65 48 43 40 34 45 46 36 22 42 41 55 33 59 29 27 31 58 54 37 56\n",
      " 39 51 50 52 47 24 64 53 35 32 30 68 57 66 49 38 61 73 26 23 25 62 90 60\n",
      " 67 69 72 85 71 77 70 19 21 74 75 20 81 76 80 88 78 79 84 17 18 82 83 86\n",
      " 87],\n",
      "\n",
      "unique values in column workclass:\n",
      "\n",
      "['Local-gov' 'Private' 'Self-emp-not-inc' 'State-gov' 'Self-emp-inc' '?'\n",
      " 'Federal-gov' 'Without-pay' 'Never-worked'],\n",
      "\n",
      "unique values in column fnlwgt:\n",
      "\n",
      "[336951 160323 104626 ...  84661 310152 257302],\n",
      "\n",
      "unique values in column education:\n",
      "\n",
      "['Assoc-acdm' 'Some-college' 'Prof-school' 'HS-grad' 'Masters' 'Doctorate'\n",
      " 'Bachelors' 'Assoc-voc' '9th' '10th' '7th-8th' '11th' '5th-6th' '1st-4th'\n",
      " '12th' 'Preschool'],\n",
      "\n",
      "unique values in column educational-num:\n",
      "\n",
      "[12 10 15  9 14 16 13 11  5  6  4  7  3  2  8  1],\n",
      "\n",
      "unique values in column marital-status:\n",
      "\n",
      "['Married-civ-spouse' 'Never-married' 'Divorced' 'Separated'\n",
      " 'Married-AF-spouse' 'Widowed' 'Married-spouse-absent'],\n",
      "\n",
      "unique values in column occupation:\n",
      "\n",
      "['Protective-serv' 'Machine-op-inspct' 'Prof-specialty' 'Exec-managerial'\n",
      " 'Tech-support' 'Craft-repair' 'Sales' 'Other-service' '?'\n",
      " 'Transport-moving' 'Adm-clerical' 'Handlers-cleaners' 'Farming-fishing'\n",
      " 'Priv-house-serv' 'Armed-Forces'],\n",
      "\n",
      "unique values in column relationship:\n",
      "\n",
      "['Husband' 'Wife' 'Not-in-family' 'Unmarried' 'Own-child' 'Other-relative'],\n",
      "\n",
      "unique values in column race:\n",
      "\n",
      "['White' 'Black' 'Asian-Pac-Islander' 'Other' 'Amer-Indian-Eskimo'],\n",
      "\n",
      "unique values in column gender:\n",
      "\n",
      "['Male' 'Female'],\n",
      "\n",
      "unique values in column capital-gain:\n",
      "\n",
      "[    0  7688  3103  6418  7298 14084  5178 15024 99999 27828  4934 10605\n",
      "  8614 13550 25236  4787  4386 10520 20051 14344 15020  9386 11678  7262\n",
      "  6514  7430 15831  9562  6097  5556 25124  4687  6612  7896  5455  3325\n",
      "  5721  7443  2036  3137  2176  4064  6360  1848  2174  6849  2885  4416\n",
      "  2354  5013  3781  3908  3464  1506   594  3411  1797  4650  1173  2907\n",
      "  2635  4865  2407  4508  2463  2829  3273  1151  4101  6723  2009  2202\n",
      "  2346  2414  6497 34095  1831  3418  2050  1055  3942  2580  2964  3432\n",
      "  3674  2290   914  2653   991  1639 18481  2062  3887  3818  6767  2329\n",
      "  2936  2597   114  2977 41310  2228  2961  1409 10566  2105  7978  1471\n",
      "  3471  2993  1086  2387  5060  3456],\n",
      "\n",
      "unique values in column capital-loss:\n",
      "\n",
      "[   0 2415 1887 1977 1485 1902 2444 1825 1848 3004 2559 2258 2377 1564\n",
      " 2547 2472 2174 2282 1911 2231 2246 2392 2824 1648  653 1092 3770 1590\n",
      " 1672 1408 1617 1579 1876 1974 1602 1651 1719 2001 1628 1741 2206 1755\n",
      " 3683 2205 1762 1594 1721 2339 1740 1669 2002 1668 1504 2129 4356  625\n",
      " 1980  880 1726 2267 2080 2051 1380  323 2457  213 2179 1138 2057 2603\n",
      " 1573  419  155 3900 2201 2042 1340 1944 1258 2238 2467 2163 2754 1411],\n",
      "\n",
      "unique values in column hours-per-week:\n",
      "\n",
      "[40 32 48 50 45 47 90 38 36 60 56 10 41 55 16 70 35 42 12 84 80 25 99 24\n",
      " 65 54 53 20 52 30 44 37 67 43 76 39  8 15 78 63  6 58  3 72 31 46 27  4\n",
      " 23 75 62 34 66 86  5 85 17 51 64  2 89 49 13 21  9 57 18 68  7 61  1 33\n",
      " 28 74 73 59 92 69 26 98 97 14 29 22 11 91 81 19 96 88 77 95],\n",
      "\n",
      "unique values in column native-country:\n",
      "\n",
      "['United-States' '?' 'Ireland' 'El-Salvador' 'Japan' 'Poland' 'England'\n",
      " 'Philippines' 'Germany' 'Thailand' 'Puerto-Rico' 'Portugal' 'China'\n",
      " 'Canada' 'India' 'Jamaica' 'Honduras' 'South' 'Ecuador' 'Hungary' 'Cuba'\n",
      " 'Mexico' 'Greece' 'Yugoslavia' 'Dominican-Republic' 'Nicaragua' 'Haiti'\n",
      " 'Italy' 'Columbia' 'Taiwan' 'Peru' 'France' 'Cambodia'\n",
      " 'Outlying-US(Guam-USVI-etc)' 'Hong' 'Iran' 'Vietnam' 'Guatemala'\n",
      " 'Trinadad&Tobago' 'Scotland' 'Laos' 'Holand-Netherlands'],\n",
      "\n",
      "unique values in column income:\n",
      "\n",
      "['>50K' '<=50K'],\n",
      "\n"
     ]
    }
   ],
   "source": [
    "for i in an.columns:\n",
    "    print(f\"unique values in column {i}:\\n\\n{an[i].unique()},\\n\")"
   ]
  },
  {
   "cell_type": "code",
   "execution_count": 69,
   "id": "7afa769c",
   "metadata": {},
   "outputs": [],
   "source": [
    "import numpy as np"
   ]
  },
  {
   "cell_type": "code",
   "execution_count": 70,
   "id": "2726fa0e",
   "metadata": {},
   "outputs": [],
   "source": [
    "an_new=an.replace(\"?\",np.nan)"
   ]
  },
  {
   "cell_type": "code",
   "execution_count": 71,
   "id": "48a8b2f6",
   "metadata": {},
   "outputs": [
    {
     "data": {
      "text/plain": [
       "age                   0\n",
       "workclass          1283\n",
       "fnlwgt                0\n",
       "education             0\n",
       "educational-num       0\n",
       "marital-status        0\n",
       "occupation         1288\n",
       "relationship          0\n",
       "race                  0\n",
       "gender                0\n",
       "capital-gain          0\n",
       "capital-loss          0\n",
       "hours-per-week        0\n",
       "native-country      508\n",
       "income                0\n",
       "dtype: int64"
      ]
     },
     "execution_count": 71,
     "metadata": {},
     "output_type": "execute_result"
    }
   ],
   "source": [
    "an_new.isnull().sum()"
   ]
  },
  {
   "cell_type": "code",
   "execution_count": 40,
   "id": "5285d04a",
   "metadata": {},
   "outputs": [
    {
     "data": {
      "text/plain": [
       "(27414, 15)"
      ]
     },
     "execution_count": 40,
     "metadata": {},
     "output_type": "execute_result"
    }
   ],
   "source": [
    "an_new.shape"
   ]
  },
  {
   "cell_type": "code",
   "execution_count": 41,
   "id": "c9100955",
   "metadata": {},
   "outputs": [
    {
     "data": {
      "text/plain": [
       "0.04680090464726053"
      ]
     },
     "execution_count": 41,
     "metadata": {},
     "output_type": "execute_result"
    }
   ],
   "source": [
    "1283/27414"
   ]
  },
  {
   "cell_type": "code",
   "execution_count": 72,
   "id": "6b40a7f1",
   "metadata": {},
   "outputs": [],
   "source": [
    "an_new[\"workclass\"].fillna(an_new[\"workclass\"].mode()[0],inplace=True)"
   ]
  },
  {
   "cell_type": "code",
   "execution_count": 73,
   "id": "5e4a8afc",
   "metadata": {},
   "outputs": [
    {
     "data": {
      "text/plain": [
       "age                   0\n",
       "workclass             0\n",
       "fnlwgt                0\n",
       "education             0\n",
       "educational-num       0\n",
       "marital-status        0\n",
       "occupation         1288\n",
       "relationship          0\n",
       "race                  0\n",
       "gender                0\n",
       "capital-gain          0\n",
       "capital-loss          0\n",
       "hours-per-week        0\n",
       "native-country      508\n",
       "income                0\n",
       "dtype: int64"
      ]
     },
     "execution_count": 73,
     "metadata": {},
     "output_type": "execute_result"
    }
   ],
   "source": [
    "an_new.isnull().sum()"
   ]
  },
  {
   "cell_type": "code",
   "execution_count": 74,
   "id": "8c1236bf",
   "metadata": {},
   "outputs": [],
   "source": [
    "an_new[\"occupation\"].fillna(an_new[\"occupation\"].mode()[0],inplace=True)"
   ]
  },
  {
   "cell_type": "code",
   "execution_count": 75,
   "id": "5aa08a5c",
   "metadata": {},
   "outputs": [
    {
     "data": {
      "text/plain": [
       "age                  0\n",
       "workclass            0\n",
       "fnlwgt               0\n",
       "education            0\n",
       "educational-num      0\n",
       "marital-status       0\n",
       "occupation           0\n",
       "relationship         0\n",
       "race                 0\n",
       "gender               0\n",
       "capital-gain         0\n",
       "capital-loss         0\n",
       "hours-per-week       0\n",
       "native-country     508\n",
       "income               0\n",
       "dtype: int64"
      ]
     },
     "execution_count": 75,
     "metadata": {},
     "output_type": "execute_result"
    }
   ],
   "source": [
    "an_new.isnull().sum()"
   ]
  },
  {
   "cell_type": "code",
   "execution_count": 76,
   "id": "bc901bb4",
   "metadata": {},
   "outputs": [],
   "source": [
    "an_new[\"native-country\"].fillna(an_new[\"native-country\"].mode()[0],inplace=True)"
   ]
  },
  {
   "cell_type": "code",
   "execution_count": 77,
   "id": "d6cc3dd4",
   "metadata": {},
   "outputs": [
    {
     "data": {
      "text/plain": [
       "age                0\n",
       "workclass          0\n",
       "fnlwgt             0\n",
       "education          0\n",
       "educational-num    0\n",
       "marital-status     0\n",
       "occupation         0\n",
       "relationship       0\n",
       "race               0\n",
       "gender             0\n",
       "capital-gain       0\n",
       "capital-loss       0\n",
       "hours-per-week     0\n",
       "native-country     0\n",
       "income             0\n",
       "dtype: int64"
      ]
     },
     "execution_count": 77,
     "metadata": {},
     "output_type": "execute_result"
    }
   ],
   "source": [
    "an_new.isnull().sum()"
   ]
  },
  {
   "cell_type": "code",
   "execution_count": 80,
   "id": "c72d7bfe",
   "metadata": {},
   "outputs": [],
   "source": [
    "for i in an.columns:\n",
    "    if an_new[i].dtypes==\"object\":\n",
    "        an_new[i].fillna(an[i].mode()[0],inplace=True)\n",
    "    else:\n",
    "            an_new[i].fillna(an[i].mean(),inplace=True)"
   ]
  },
  {
   "cell_type": "code",
   "execution_count": 81,
   "id": "ac878335",
   "metadata": {},
   "outputs": [
    {
     "data": {
      "text/plain": [
       "age                0\n",
       "workclass          0\n",
       "fnlwgt             0\n",
       "education          0\n",
       "educational-num    0\n",
       "marital-status     0\n",
       "occupation         0\n",
       "relationship       0\n",
       "race               0\n",
       "gender             0\n",
       "capital-gain       0\n",
       "capital-loss       0\n",
       "hours-per-week     0\n",
       "native-country     0\n",
       "income             0\n",
       "dtype: int64"
      ]
     },
     "execution_count": 81,
     "metadata": {},
     "output_type": "execute_result"
    }
   ],
   "source": [
    "an_new.isnull().sum()"
   ]
  },
  {
   "cell_type": "code",
   "execution_count": null,
   "id": "f1e8f221",
   "metadata": {},
   "outputs": [],
   "source": []
  }
 ],
 "metadata": {
  "kernelspec": {
   "display_name": "Python 3 (ipykernel)",
   "language": "python",
   "name": "python3"
  },
  "language_info": {
   "codemirror_mode": {
    "name": "ipython",
    "version": 3
   },
   "file_extension": ".py",
   "mimetype": "text/x-python",
   "name": "python",
   "nbconvert_exporter": "python",
   "pygments_lexer": "ipython3",
   "version": "3.11.4"
  }
 },
 "nbformat": 4,
 "nbformat_minor": 5
}
